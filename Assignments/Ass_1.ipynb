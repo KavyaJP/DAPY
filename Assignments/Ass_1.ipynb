{
 "cells": [
  {
   "cell_type": "code",
   "execution_count": null,
   "metadata": {},
   "outputs": [],
   "source": [
    "# Q.1. Do any 4 list operations. for ex. append, extend, indexing and list slicing operations.\n",
    "# Q. 2. Take a dictionary and try to access keys and values\n",
    "# Q. 3. Write a simple code without using a loop, sum of numbers till 10.\n",
    "# Q.4. Write a code using the user-defined function, to find the area of a circle\n",
    "# Q. 5. Write a code using user user-defined function, to find the area of a room in Sq. feet"
   ]
  },
  {
   "cell_type": "code",
   "execution_count": 1,
   "metadata": {},
   "outputs": [
    {
     "name": "stdout",
     "output_type": "stream",
     "text": [
      "[1, 2, 3, 4]\n",
      "[1, 2, 3, 4, 5]\n",
      "[1, 2, 3, 4, 5, 6, 7]\n",
      "[1, 2, 10, 3, 4, 5, 6, 7]\n",
      "[1, 2, 3, 4, 5, 6, 7]\n"
     ]
    }
   ],
   "source": [
    "# Q.1. Do any 4 list operations. for ex. append, extend, indexing and list slicing operations.\n",
    "\n",
    "a=[1,2,3,4]\n",
    "print(a)\n",
    "a.append(5)\n",
    "print(a)\n",
    "a.extend([6,7])\n",
    "print(a)\n",
    "a.insert(2,10)\n",
    "print(a)\n",
    "a.remove(10)\n",
    "print(a)"
   ]
  },
  {
   "cell_type": "code",
   "execution_count": null,
   "metadata": {},
   "outputs": [],
   "source": [
    "# Q. 2. Take a dictionary and try to access keys and values\n",
    "\n",
    "my_dict = {\"name\": \"Kavya\", \"age\": 18, \"city\": \"Nadiad\"}\n",
    "name = my_dict[\"name\"]\n",
    "print(\"Name : \", name)\n",
    "age = my_dict[\"age\"]\n",
    "print(\"Age : \", age)\n",
    "city = my_dict[\"city\"]\n",
    "print(\"City : \", city)"
   ]
  },
  {
   "cell_type": "code",
   "execution_count": null,
   "metadata": {},
   "outputs": [],
   "source": [
    "# Q. 3. Write a simple code without using a loop, sum of numbers till 10.\n",
    "\n",
    "n = 10\n",
    "ans = n * (n + 1) / 2\n",
    "print(\"Sum of all Numbers Until 10 : \", ans)\n",
    "ans = 1 + 2 + 3 + 4 + 5 + 6 + 7 + 8 + 9 + 10\n",
    "print(\"Sum of all Numbers Until 10 : \", ans)"
   ]
  },
  {
   "cell_type": "code",
   "execution_count": null,
   "metadata": {},
   "outputs": [],
   "source": [
    "# Q.4. Write a code using the user-defined function, to find the area of a circle\n",
    "\n",
    "def circleArea(radius):\n",
    "    return 3.14 * radius**2\n",
    "\n",
    "\n",
    "print(\"Area of Circle with radius 10 = \", circleArea(10))"
   ]
  },
  {
   "cell_type": "code",
   "execution_count": null,
   "metadata": {},
   "outputs": [],
   "source": [
    "# Q. 5. Write a code using user user-defined function, to find the area of a room in Sq. feet\n",
    "\n",
    "def roomArea(width, height):\n",
    "    return width * height\n",
    "\n",
    "\n",
    "w = int(input(\"Enter Room Width in Foot: \"))\n",
    "h = int(input(\"Enter Room Height in Foot: \"))\n",
    "print(\"Room Area :\", roomArea(w, h), \"sq.Ft\")"
   ]
  }
 ],
 "metadata": {
  "kernelspec": {
   "display_name": "Python 3",
   "language": "python",
   "name": "python3"
  },
  "language_info": {
   "codemirror_mode": {
    "name": "ipython",
    "version": 3
   },
   "file_extension": ".py",
   "mimetype": "text/x-python",
   "name": "python",
   "nbconvert_exporter": "python",
   "pygments_lexer": "ipython3",
   "version": "3.12.4"
  }
 },
 "nbformat": 4,
 "nbformat_minor": 2
}

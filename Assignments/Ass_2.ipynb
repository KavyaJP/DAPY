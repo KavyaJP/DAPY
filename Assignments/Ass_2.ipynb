{
 "cells": [
  {
   "cell_type": "code",
   "execution_count": null,
   "metadata": {},
   "outputs": [],
   "source": [
    "# Q.1\n",
    "# Take input from the user and if the student's marks is >=75, then print distinction\n",
    "# if marks<75>=60, then print average marks\n",
    "# if marks <60>=40 then print below avg.\n",
    "# if marks<40, then print fail\n",
    "\n",
    "# Q.2 \n",
    "# Take input from the user and return the total bus ticket fare:\n",
    "# if age>=60, then give 50% discount\n",
    "# if age<60>18, then no discount on ticket\n",
    "# if age<18, then 80% discount\n",
    "# you have to take input from the user such that it will take input as age and according to age it will print\n",
    "# total bus ticket out of (100)."
   ]
  },
  {
   "cell_type": "code",
   "execution_count": null,
   "metadata": {},
   "outputs": [],
   "source": [
    "# Q.1# Take input from the user and if the student's marks is >=75, then print distinction\n",
    "# if marks<75>=60, then print average marks\n",
    "# if marks <60>=40 then print below avg.\n",
    "# if marks<40, then print fail\n",
    "marks = int(input(\"Enter Your Marks : \"))\n",
    "if marks >= 75:\n",
    "    print(\"Distinction\")\n",
    "if marks < 75 and marks >= 60:\n",
    "    print(\"Average Marks\")\n",
    "if marks < 60 and marks >= 40:\n",
    "    print(\"Pass\")\n",
    "if marks < 40:\n",
    "    print(\"Fail\")"
   ]
  },
  {
   "cell_type": "code",
   "execution_count": null,
   "metadata": {},
   "outputs": [],
   "source": [
    "# Q.2 \n",
    "# Take input from the user and return the total bus ticket fare:\n",
    "# if age>=60, then give 50% discount\n",
    "# if age<60>18, then no discount on ticket\n",
    "# if age<18, then 80% discount\n",
    "# you have to take input from the user such that it will take input as age and according to age it will print\n",
    "# total bus ticket out of (100).\n",
    "age = int(input(\"Enter Your Age : \"))\n",
    "price = 100.00\n",
    "if age >= 60:\n",
    "    discount = 0.50 * price\n",
    "    final_price = price - discount\n",
    "    print(\"Your Final Price After Discount is :\", final_price)\n",
    "elif age < 60 and age >= 18:\n",
    "    print(\"There is no Discount :\", price)\n",
    "else:\n",
    "    discount = 0.8 * price\n",
    "    final_price = price - discount\n",
    "    print(\"Your Final Price After Discount is :\", final_price)"
   ]
  }
 ],
 "metadata": {
  "language_info": {
   "name": "python"
  }
 },
 "nbformat": 4,
 "nbformat_minor": 2
}

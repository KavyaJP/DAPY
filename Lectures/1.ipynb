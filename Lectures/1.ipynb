{
 "cells": [
  {
   "cell_type": "code",
   "execution_count": null,
   "metadata": {},
   "outputs": [],
   "source": [
    "# 25 - 7 - 2024\n",
    "# 1. write a python program to find the largest number in a list\n",
    "# 2. write a python program to find the second largest number in a list\n",
    "# 3. Write a python program to find the sum of all numbers from 1 to 100 using a Loop\n",
    "# 4. Write a python program to find the factorial of a number using a Loop\n",
    "# 5. Write a python program to merge two lists into a third list using a Loop"
   ]
  },
  {
   "cell_type": "code",
   "execution_count": 11,
   "metadata": {},
   "outputs": [
    {
     "name": "stdout",
     "output_type": "stream",
     "text": [
      "Max Number : 1000\n"
     ]
    }
   ],
   "source": [
    "# 1. write a python program to find the largest number in a list\n",
    "number = [\n",
    "    1,\n",
    "    2,\n",
    "    3,\n",
    "    4,\n",
    "    5,\n",
    "    6,\n",
    "    7,\n",
    "    8,\n",
    "    1000,\n",
    "    24,\n",
    "    324,\n",
    "    24,\n",
    "    54,\n",
    "    325,\n",
    "    3,\n",
    "    5,\n",
    "    4,\n",
    "    6,\n",
    "    5,\n",
    "    5,\n",
    "    2,\n",
    "    32,\n",
    "    54,\n",
    "    23,\n",
    "    5,\n",
    "    23,\n",
    "    532,\n",
    "    5,\n",
    "    3,\n",
    "]\n",
    "max = -100000000000000\n",
    "for i in range(len(number)):\n",
    "    if number[i] > max:\n",
    "        max = number[i]\n",
    "print(\"Max Number :\", max)"
   ]
  },
  {
   "cell_type": "code",
   "execution_count": 10,
   "metadata": {},
   "outputs": [
    {
     "name": "stdout",
     "output_type": "stream",
     "text": [
      "[1000, 532, 325, 324, 54, 54, 32, 24, 24, 23, 23, 8, 7, 6, 6, 5, 5, 5, 5, 5, 5, 4, 4, 3, 3, 3, 2, 2, 1]\n",
      "532\n"
     ]
    }
   ],
   "source": [
    "# 2. write a python program to find the second largest number in a list\n",
    "def bubblesort(number):\n",
    "    for i in range(len(number)):\n",
    "        for j in range(0, len(number) - i - 1):\n",
    "            if number[j] < number[j + 1]:\n",
    "                number[j], number[j + 1] = number[j + 1], number[j]\n",
    "number = [\n",
    "    1,\n",
    "    2,\n",
    "    3,\n",
    "    4,\n",
    "    5,\n",
    "    6,\n",
    "    7,\n",
    "    8,\n",
    "    1000,\n",
    "    24,\n",
    "    324,\n",
    "    24,\n",
    "    54,\n",
    "    325,\n",
    "    3,\n",
    "    5,\n",
    "    4,\n",
    "    6,\n",
    "    5,\n",
    "    5,\n",
    "    2,\n",
    "    32,\n",
    "    54,\n",
    "    23,\n",
    "    5,\n",
    "    23,\n",
    "    532,\n",
    "    5,\n",
    "    3,\n",
    "]\n",
    "bubblesort(number)\n",
    "print(number)\n",
    "print(number[1])"
   ]
  },
  {
   "cell_type": "code",
   "execution_count": 3,
   "metadata": {},
   "outputs": [
    {
     "name": "stdout",
     "output_type": "stream",
     "text": [
      "5050\n"
     ]
    }
   ],
   "source": [
    "# 3. Write a python program to find the sum of all numbers from 1 to 100 using a Loop\n",
    "sum = 0\n",
    "for i in range(1, 101):\n",
    "    sum += i\n",
    "print(sum)"
   ]
  },
  {
   "cell_type": "code",
   "execution_count": 7,
   "metadata": {},
   "outputs": [
    {
     "name": "stdout",
     "output_type": "stream",
     "text": [
      "Factorial of 5 is 120\n"
     ]
    }
   ],
   "source": [
    "# 4. Write a python program to find the factorial of a number using a Loop\n",
    "n = int(input(\"Enter Number : \"))\n",
    "factorial = 1\n",
    "for i in range(1, n + 1):\n",
    "    factorial *= i\n",
    "print(\"Factorial of\", n, \"is\", factorial)"
   ]
  },
  {
   "cell_type": "code",
   "execution_count": null,
   "metadata": {},
   "outputs": [],
   "source": [
    "# 5. Write a python program to merge two lists into a third list using a Loop\n",
    "list1 = [1, 2, 3, 4]\n",
    "\n",
    "list2 = [5, 6, 7, 8]\n",
    "\n",
    "list3 = []\n",
    "\n",
    "for i in range(len(list1)):\n",
    "    list3.append(list1[i])\n",
    "for i in range(len(list2)):\n",
    "    list3.append(list2[i])\n",
    "print(list3)"
   ]
  }
 ],
 "metadata": {
  "kernelspec": {
   "display_name": "Python 3",
   "language": "python",
   "name": "python3"
  },
  "language_info": {
   "codemirror_mode": {
    "name": "ipython",
    "version": 3
   },
   "file_extension": ".py",
   "mimetype": "text/x-python",
   "name": "python",
   "nbconvert_exporter": "python",
   "pygments_lexer": "ipython3",
   "version": "3.12.4"
  }
 },
 "nbformat": 4,
 "nbformat_minor": 2
}

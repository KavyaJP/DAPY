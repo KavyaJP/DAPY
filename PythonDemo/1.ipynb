{
 "cells": [
  {
   "cell_type": "code",
   "execution_count": 2,
   "metadata": {},
   "outputs": [
    {
     "name": "stdout",
     "output_type": "stream",
     "text": [
      "Hello, World!\n"
     ]
    }
   ],
   "source": [
    "#Print Function\n",
    "print(\"Hello, World!\")\n",
    "#\"Hello, World!\" is a string and print() is a function to print things to the screen"
   ]
  },
  {
   "cell_type": "code",
   "execution_count": 4,
   "metadata": {},
   "outputs": [
    {
     "name": "stdout",
     "output_type": "stream",
     "text": [
      "a :  3 \n",
      "b :  String\n",
      "Type of a :  <class 'int'> \n",
      "Type of b :  <class 'str'>\n"
     ]
    }
   ],
   "source": [
    "a = 3\n",
    "b = \"String\"\n",
    "#python determines the type data type of variable by the value stores in the variable\n",
    "\n",
    "print(\"a : \",a,\"\\nb : \", b)\n",
    "print(\"Type of a : \",type(a),\"\\nType of b : \", type(b))\n",
    "#type() function returns the type of the variable and takes the name of the variable as an input\n",
    "#\\n is an escape sequence character in python"
   ]
  }
 ],
 "metadata": {
  "kernelspec": {
   "display_name": ".venv",
   "language": "python",
   "name": "python3"
  },
  "language_info": {
   "codemirror_mode": {
    "name": "ipython",
    "version": 3
   },
   "file_extension": ".py",
   "mimetype": "text/x-python",
   "name": "python",
   "nbconvert_exporter": "python",
   "pygments_lexer": "ipython3",
   "version": "3.12.4"
  }
 },
 "nbformat": 4,
 "nbformat_minor": 2
}

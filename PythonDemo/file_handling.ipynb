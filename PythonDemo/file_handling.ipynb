{
 "cells": [
  {
   "cell_type": "code",
   "execution_count": 17,
   "metadata": {},
   "outputs": [
    {
     "name": "stdout",
     "output_type": "stream",
     "text": [
      "Data Written to file: example.txt\n"
     ]
    }
   ],
   "source": [
    "# pyhton program to write a file\n",
    "file_path = \"example.txt\"\n",
    "with open(file_path, \"w\") as f:\n",
    "    f.write(\"This is an example text file.\\n\")\n",
    "    f.write(\"Hello, World!\\n\")\n",
    "    a = input(\"Enter your name : \")\n",
    "    f.write(\"Hi \" + a)\n",
    "print(\"Data Written to file: \" + file_path)"
   ]
  },
  {
   "cell_type": "code",
   "execution_count": 18,
   "metadata": {},
   "outputs": [
    {
     "name": "stdout",
     "output_type": "stream",
     "text": [
      "Content from the file: example.txt\n",
      "\n",
      "This is an example text file.\n",
      "Hello, World!\n",
      "Hi Kavya\n"
     ]
    }
   ],
   "source": [
    "#pyhton program to read a file\n",
    "file_path = 'example.txt'\n",
    "with open (file_path, 'r') as f:\n",
    "    content = f.read()\n",
    "    \n",
    "print(\"Content from the file: \" + file_path+\"\\n\")\n",
    "print(content)"
   ]
  }
 ],
 "metadata": {
  "kernelspec": {
   "display_name": "Python 3",
   "language": "python",
   "name": "python3"
  },
  "language_info": {
   "codemirror_mode": {
    "name": "ipython",
    "version": 3
   },
   "file_extension": ".py",
   "mimetype": "text/x-python",
   "name": "python",
   "nbconvert_exporter": "python",
   "pygments_lexer": "ipython3",
   "version": "3.12.4"
  }
 },
 "nbformat": 4,
 "nbformat_minor": 2
}
